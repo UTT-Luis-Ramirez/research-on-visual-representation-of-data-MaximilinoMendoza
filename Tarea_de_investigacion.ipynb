{
  "nbformat": 4,
  "nbformat_minor": 0,
  "metadata": {
    "colab": {
      "provenance": []
    },
    "kernelspec": {
      "name": "python3",
      "display_name": "Python 3"
    },
    "language_info": {
      "name": "python"
    }
  },
  "cells": [
    {
      "cell_type": "markdown",
      "source": [
        "#Tarea de Investigacion#"
      ],
      "metadata": {
        "id": "Dgi41DS5duHy"
      }
    },
    {
      "cell_type": "markdown",
      "source": [
        "#Historigrama#"
      ],
      "metadata": {
        "id": "y0_8dA1ihLiw"
      }
    },
    {
      "cell_type": "markdown",
      "source": [
        "###Un histograma es un tipo de gráfico de barras que se utiliza para representar la distribución de un conjunto de datos continuos. En este gráfico, las barras representan intervalos de datos (o clases), y la altura de cada barra indica la frecuencia o número de observaciones dentro de ese intervalo."
      ],
      "metadata": {
        "id": "AlDz67YdhXaO"
      }
    },
    {
      "cell_type": "markdown",
      "source": [
        "##¿Como se crea un historigrama?"
      ],
      "metadata": {
        "id": "sYUwPtK1iboZ"
      }
    },
    {
      "cell_type": "markdown",
      "source": [
        "1. Recolección de los datos: Se deben tener datos numéricos continuos.\n",
        "\n",
        "\n",
        "2. Dividir los datos en clases o intervalos: Los intervalos deben ser del mismo tamaño, y su cantidad dependerá del rango de los datos.\n",
        "\n",
        "\n",
        "3. Contar la frecuencia de los datos en cada intervalo: Se cuenta cuántos datos caen dentro de cada intervalo.\n",
        "\n",
        "\n",
        "4. Dibujar el histograma: En el eje horizontal (X) se colocan los intervalos y en el eje vertical (Y) la frecuencia de los datos.\n"
      ],
      "metadata": {
        "id": "k_SOVonhi0NM"
      }
    },
    {
      "cell_type": "markdown",
      "source": [
        "###¿Para que se crea la historigrama?"
      ],
      "metadata": {
        "id": "h28qqhDBi_Xg"
      }
    },
    {
      "cell_type": "markdown",
      "source": [
        "Se utiliza para analizar la distribución de un conjunto de datos numéricos se   \n",
        "permite observar patrones como la simetría, la normalidad o la asimetría de los datos y nos ayuda a identificar la dispersión de los datos y los valores atípicos."
      ],
      "metadata": {
        "id": "ztnlpGGzjNk4"
      }
    },
    {
      "cell_type": "markdown",
      "source": [
        "#Diagrama de Tallos y Hojas"
      ],
      "metadata": {
        "id": "uzQJPYcKjTHS"
      }
    },
    {
      "cell_type": "markdown",
      "source": [
        "###El diagrama de tallos y hojas es una representación gráfica que organiza los datos en una tabla con dos columnas: una para los \"tallos\" y otra para las \"hojas\". Este diagrama es útil para visualizar la distribución de los datos numéricos y mantener su integridad."
      ],
      "metadata": {
        "id": "2rLwf1J9kqGe"
      }
    },
    {
      "cell_type": "markdown",
      "source": [
        "##¿Como se crea los Diagramas de Tallos y de Hojas##"
      ],
      "metadata": {
        "id": "Nk1TfKMTkxzs"
      }
    },
    {
      "cell_type": "markdown",
      "source": [
        "1. Dividir los datos en \"tallos\" y \"hojas\": El \"tallo\" corresponde a la parte más significativa del número (por ejemplo, decenas, centenas) y la \"hoja\" es el valor restante (por ejemplo, unidades).\n",
        "\n",
        "2. Ordenar los datos de menor a mayor.\n",
        "\n",
        "3. Crear el diagrama: Se escribe el tallo en la columna de la izquierda y las hojas correspondientes a cada tallo se colocan a la derecha.\n",
        "\n",
        "4. Interpretar los datos: Cada fila del diagrama muestra un rango de valores representado por el tallo y sus hojas."
      ],
      "metadata": {
        "id": "zLVEFmC-l0on"
      }
    },
    {
      "cell_type": "markdown",
      "source": [
        "###¿Para que se utiliza los Diagramas de Tallos y de hoja?"
      ],
      "metadata": {
        "id": "UYepIIzgmB3m"
      }
    },
    {
      "cell_type": "markdown",
      "source": [
        "Es útil para representar datos numéricos de manera rápida y sencilla\n",
        "permite ver la forma y la distribución de los datos sin perder detalle.\n",
        "es utilizado cuando se quiere mantener la precisión de los datos pero con una representación visual más compacta que un histograma."
      ],
      "metadata": {
        "id": "27KTvlE4leTS"
      }
    },
    {
      "cell_type": "markdown",
      "source": [
        "#Diagrama de Caja (Boxplot)"
      ],
      "metadata": {
        "id": "HrmCcQP6mpwk"
      }
    },
    {
      "cell_type": "markdown",
      "source": [
        "###El diagrama de caja, o boxplot, es una representación gráfica que muestra la distribución de un conjunto de datos a través de sus cuartiles, incluyendo los valores atípicos. Es útil para visualizar la dispersión y la simetría de los datos."
      ],
      "metadata": {
        "id": "qqK2CyzxnG-d"
      }
    },
    {
      "cell_type": "markdown",
      "source": [
        "##¿Como se crea el Diagrama de caja?"
      ],
      "metadata": {
        "id": "c9LCKzJ5nnOh"
      }
    },
    {
      "cell_type": "markdown",
      "source": [
        "1. Ordenar los datos de menor a mayor.\n",
        "\n",
        "2. Calcular los cuartiles:\n",
        "\n",
        "   Q1 (primer cuartil): Mediana de la mitad inferior de los datos.\n",
        "\n",
        "   Q2 (mediana): Mediana de todo el conjunto de datos.\n",
        "\n",
        "   Q3 (tercer cuartil): Mediana de la mitad superior de los datos.\n",
        "\n",
        "3. Construir la caja: La caja se dibuja desde Q1 hasta Q3, representando el rango intercuartil (IQR).\n",
        "\n",
        "4. Dibujar los bigotes: Los bigotes se extienden desde la caja hasta el valor máximo y mínimo dentro de 1.5 veces el IQR.\n",
        "\n",
        "5. Identificar los valores atípicos: Los puntos fuera de los bigotes son considerados valores atípicos y se representan como puntos individuales."
      ],
      "metadata": {
        "id": "G8jU5q94n2tG"
      }
    },
    {
      "cell_type": "markdown",
      "source": [
        "###¿Para que se utiliza el Diagrama de caja?"
      ],
      "metadata": {
        "id": "EZ6yB1LPohA6"
      }
    },
    {
      "cell_type": "markdown",
      "source": [
        "El diagrama de caja se usa para mostrar la dispersión de los datos nos ayuda a identificar valores atípicos, tendencias centrales y la simetría de la distribuciónes útil en análisis estadístico, especialmente cuando se comparan varias distribuciones de datos."
      ],
      "metadata": {
        "id": "Cyn9HGmAo5O5"
      }
    }
  ]
}